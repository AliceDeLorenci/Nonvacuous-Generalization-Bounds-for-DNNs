{
 "cells": [
  {
   "cell_type": "code",
   "execution_count": 54,
   "metadata": {},
   "outputs": [],
   "source": [
    "import torch\n",
    "import torch.nn as nn\n",
    "from torch.nn.utils import vector_to_parameters, parameters_to_vector"
   ]
  },
  {
   "cell_type": "code",
   "execution_count": 107,
   "metadata": {},
   "outputs": [],
   "source": [
    "from models import MLPModel"
   ]
  },
  {
   "cell_type": "code",
   "execution_count": 115,
   "metadata": {},
   "outputs": [],
   "source": [
    "def zero_grad(model):\n",
    "    for param in model.parameters():\n",
    "        param.grad = None\n",
    "\n",
    "def view_grad(model):\n",
    "    grads = []\n",
    "    for param in model.parameters():\n",
    "        grads.append(param.grad.view(-1))\n",
    "    grads = torch.cat(grads)\n",
    "    print(grads)"
   ]
  },
  {
   "cell_type": "code",
   "execution_count": 116,
   "metadata": {},
   "outputs": [],
   "source": [
    "def flip_parameters_to_tensors(module):\n",
    "    attr = []\n",
    "    while bool(module._parameters):\n",
    "        attr.append( module._parameters.popitem() )\n",
    "    setattr(module, 'registered_parameters_name', [])\n",
    "\n",
    "    for i in attr:\n",
    "        setattr(module, i[0], torch.zeros(i[1].shape,requires_grad=True))\n",
    "        module.registered_parameters_name.append(i[0])\n",
    "\n",
    "    module_name = [k for k,v in module._modules.items()]\n",
    "\n",
    "    for name in module_name:\n",
    "        flip_parameters_to_tensors(module._modules[name])"
   ]
  },
  {
   "cell_type": "code",
   "execution_count": 130,
   "metadata": {},
   "outputs": [],
   "source": [
    "def set_all_parameters(module, theta):\n",
    "    count = 0  \n",
    "\n",
    "    for name in module.registered_parameters_name:\n",
    "        a = count\n",
    "        b = a + getattr(module, name).numel()\n",
    "        t = torch.reshape(theta[a:b], getattr(module, name).shape)\n",
    "        setattr(module, name, t)\n",
    "\n",
    "        count += getattr(module, name).numel()\n",
    "\n",
    "    module_name = [k for k,v in module._modules.items()]\n",
    "    for name in module_name:\n",
    "        count += set_all_parameters(module._modules[name], theta)\n",
    "    return count"
   ]
  },
  {
   "cell_type": "code",
   "execution_count": 131,
   "metadata": {},
   "outputs": [],
   "source": [
    "model = MLPModel(2, 2, 4, 1)\n",
    "zero_grad(model)"
   ]
  },
  {
   "cell_type": "code",
   "execution_count": 132,
   "metadata": {},
   "outputs": [
    {
     "data": {
      "text/plain": [
       "tensor([[ 0.1628,  1.3552],\n",
       "        [-0.2975, -0.7004],\n",
       "        [-1.5971, -1.1088]])"
      ]
     },
     "execution_count": 132,
     "metadata": {},
     "output_type": "execute_result"
    }
   ],
   "source": [
    "data = torch.randn(3,2)\n",
    "data"
   ]
  },
  {
   "cell_type": "code",
   "execution_count": 133,
   "metadata": {},
   "outputs": [
    {
     "name": "stdout",
     "output_type": "stream",
     "text": [
      "torch.Size([57])\n"
     ]
    }
   ],
   "source": [
    "nparam = len(parameters_to_vector(model.parameters()))\n",
    "w = torch.randn(nparam, requires_grad=True)\n",
    "print(w.shape)"
   ]
  },
  {
   "cell_type": "code",
   "execution_count": 134,
   "metadata": {},
   "outputs": [],
   "source": [
    "vector_to_parameters(w, model.parameters())"
   ]
  },
  {
   "cell_type": "code",
   "execution_count": 135,
   "metadata": {},
   "outputs": [],
   "source": [
    "zero_grad(model)\n",
    "output = torch.sum( model(data) )\n",
    "output.backward()"
   ]
  },
  {
   "cell_type": "code",
   "execution_count": 136,
   "metadata": {},
   "outputs": [
    {
     "name": "stdout",
     "output_type": "stream",
     "text": [
      "tensor([ 0.0000e+00,  0.0000e+00,  6.0401e-01,  5.7570e-01,  3.0632e-01,\n",
      "         2.9196e-01, -2.7470e-04, -2.2868e-03,  0.0000e+00, -6.4582e-01,\n",
      "        -3.2753e-01, -1.6874e-03,  0.0000e+00, -4.2719e-01, -2.0477e+00,\n",
      "        -4.2029e-03,  0.0000e+00,  0.0000e+00,  0.0000e+00,  0.0000e+00,\n",
      "         0.0000e+00,  0.0000e+00,  0.0000e+00,  0.0000e+00,  0.0000e+00,\n",
      "         0.0000e+00,  0.0000e+00,  0.0000e+00, -8.6706e-01,  0.0000e+00,\n",
      "         0.0000e+00,  0.0000e+00, -7.9182e-01,  0.0000e+00,  0.0000e+00,\n",
      "         0.0000e+00,  0.0000e+00,  0.0000e+00,  0.0000e+00,  0.0000e+00,\n",
      "         1.7573e+00,  0.0000e+00,  0.0000e+00,  0.0000e+00,  0.0000e+00,\n",
      "         0.0000e+00,  0.0000e+00,  0.0000e+00, -4.9329e-01,  0.0000e+00,\n",
      "         1.5833e+00,  0.0000e+00,  4.5765e-01,  0.0000e+00,  4.9648e-01,\n",
      "         0.0000e+00,  1.3579e+00])\n"
     ]
    }
   ],
   "source": [
    "view_grad(model)"
   ]
  },
  {
   "cell_type": "code",
   "execution_count": 137,
   "metadata": {},
   "outputs": [],
   "source": [
    "w.grad # parameters_to_vector does not keep track of gradients"
   ]
  },
  {
   "cell_type": "code",
   "execution_count": 138,
   "metadata": {},
   "outputs": [],
   "source": [
    "l = 0\n",
    "for param in model.parameters():\n",
    "    nl = param.numel()\n",
    "    param = w[l:l+nl].reshape(param.shape)\n",
    "    l += nl"
   ]
  },
  {
   "cell_type": "code",
   "execution_count": 139,
   "metadata": {},
   "outputs": [],
   "source": [
    "zero_grad(model)\n",
    "output = torch.sum( model(data) )\n",
    "output.backward()"
   ]
  },
  {
   "cell_type": "code",
   "execution_count": 140,
   "metadata": {},
   "outputs": [
    {
     "name": "stdout",
     "output_type": "stream",
     "text": [
      "tensor([ 0.0000e+00,  0.0000e+00,  6.0401e-01,  5.7570e-01,  3.0632e-01,\n",
      "         2.9196e-01, -2.7470e-04, -2.2868e-03,  0.0000e+00, -6.4582e-01,\n",
      "        -3.2753e-01, -1.6874e-03,  0.0000e+00, -4.2719e-01, -2.0477e+00,\n",
      "        -4.2029e-03,  0.0000e+00,  0.0000e+00,  0.0000e+00,  0.0000e+00,\n",
      "         0.0000e+00,  0.0000e+00,  0.0000e+00,  0.0000e+00,  0.0000e+00,\n",
      "         0.0000e+00,  0.0000e+00,  0.0000e+00, -8.6706e-01,  0.0000e+00,\n",
      "         0.0000e+00,  0.0000e+00, -7.9182e-01,  0.0000e+00,  0.0000e+00,\n",
      "         0.0000e+00,  0.0000e+00,  0.0000e+00,  0.0000e+00,  0.0000e+00,\n",
      "         1.7573e+00,  0.0000e+00,  0.0000e+00,  0.0000e+00,  0.0000e+00,\n",
      "         0.0000e+00,  0.0000e+00,  0.0000e+00, -4.9329e-01,  0.0000e+00,\n",
      "         1.5833e+00,  0.0000e+00,  4.5765e-01,  0.0000e+00,  4.9648e-01,\n",
      "         0.0000e+00,  1.3579e+00])\n"
     ]
    }
   ],
   "source": [
    "view_grad(model)"
   ]
  },
  {
   "cell_type": "code",
   "execution_count": 141,
   "metadata": {},
   "outputs": [],
   "source": [
    "w.grad # simple slicing and assigning does not keep track of gradients"
   ]
  },
  {
   "cell_type": "code",
   "execution_count": 142,
   "metadata": {},
   "outputs": [
    {
     "data": {
      "text/plain": [
       "57"
      ]
     },
     "execution_count": 142,
     "metadata": {},
     "output_type": "execute_result"
    }
   ],
   "source": [
    "flip_parameters_to_tensors(model)\n",
    "set_all_parameters(model, w)"
   ]
  },
  {
   "cell_type": "code",
   "execution_count": 143,
   "metadata": {},
   "outputs": [],
   "source": [
    "w.grad"
   ]
  },
  {
   "cell_type": "code",
   "execution_count": 144,
   "metadata": {},
   "outputs": [],
   "source": [
    "output = torch.sum( model(data) )\n",
    "output.backward()"
   ]
  },
  {
   "cell_type": "code",
   "execution_count": 145,
   "metadata": {},
   "outputs": [
    {
     "data": {
      "text/plain": [
       "tensor([ 0.8476,  2.5635, -0.2921, -1.0884, -0.5252, -0.1708, -0.1968, -1.0864,\n",
       "        -0.6340, -0.2164, -0.1360, -0.1719, -0.5305, -0.3840, -0.2965, -0.4678,\n",
       "        -1.6629,  0.0000,  0.0000, -0.3666,  0.0000,  0.0000,  0.0000,  0.0000,\n",
       "         0.0000,  0.0000,  0.0000,  0.0000,  0.0000,  0.0000,  0.0000,  0.0000,\n",
       "         0.0000,  0.0000,  0.0000,  0.0000,  0.0000,  0.0000,  0.0000,  0.0000,\n",
       "         0.0000,  0.0000,  0.0000,  0.0000,  0.0000,  0.0000,  0.0000,  0.0000,\n",
       "         0.0000,  0.0000,  0.0000,  0.0000,  0.0000,  0.0000,  0.0000,  0.0000,\n",
       "         0.0000])"
      ]
     },
     "execution_count": 145,
     "metadata": {},
     "output_type": "execute_result"
    }
   ],
   "source": [
    "w.grad"
   ]
  },
  {
   "cell_type": "code",
   "execution_count": null,
   "metadata": {},
   "outputs": [],
   "source": []
  }
 ],
 "metadata": {
  "kernelspec": {
   "display_name": ".venv",
   "language": "python",
   "name": "python3"
  },
  "language_info": {
   "codemirror_mode": {
    "name": "ipython",
    "version": 3
   },
   "file_extension": ".py",
   "mimetype": "text/x-python",
   "name": "python",
   "nbconvert_exporter": "python",
   "pygments_lexer": "ipython3",
   "version": "3.10.12"
  }
 },
 "nbformat": 4,
 "nbformat_minor": 2
}
